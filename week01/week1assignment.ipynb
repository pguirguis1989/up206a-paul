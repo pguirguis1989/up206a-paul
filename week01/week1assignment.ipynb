{
 "cells": [
  {
   "cell_type": "markdown",
   "id": "049fe293-0445-44a7-8ac2-33f1b6b2116b",
   "metadata": {},
   "source": [
    "# Crashes Along the California State Right-of-Way Involving Bicyclists and Pedestrians\n",
    "\n",
    "#### I will be doing a data exploration excercise using data of crashes involving cyclists and pedestrians along California State's rights-of-way in Los Angeles County, obtained from the Transportation Injury Mapping System (TIMS). The crashes occurred between January 1, 2016 and December 31, 2020. It is important to note that the 2019-2020 data is still preliminary and subject to change. "
   ]
  },
  {
   "cell_type": "markdown",
   "id": "d5f0c60e-617d-446c-a3ac-77ced462f1b4",
   "metadata": {
    "tags": []
   },
   "source": [
<<<<<<< HEAD
    "First we will import the dataset"
=======
    "# First we will import the dataset"
>>>>>>> 791225cdefd3749c87ed5608bf128f765223f974
   ]
  },
  {
   "cell_type": "code",
   "execution_count": 19,
   "id": "ec161529-64e6-4398-af4d-086f372a6424",
   "metadata": {},
   "outputs": [],
   "source": [
    "import geopandas as gpd"
   ]
  },
  {
   "cell_type": "code",
   "execution_count": 20,
   "id": "dd533642-4d65-49c8-9f35-2ae3f434c06e",
   "metadata": {},
   "outputs": [],
   "source": [
    "crashes = gpd.read_file('Datawk1/TIMSBikePedCrashesOnStateROWJan16toDec20.csv')"
   ]
  },
  {
   "cell_type": "markdown",
   "id": "ac034ac4-201b-46fd-906c-7d919fd60d58",
   "metadata": {},
   "source": [
    "Important: The data MUST be in a folder in order to upload. Then reference just the \"folder/filename\"."
   ]
  },
  {
   "cell_type": "code",
   "execution_count": null,
   "id": "692a1ed1-a573-4f98-91c2-5206a1577996",
   "metadata": {},
   "outputs": [],
   "source": []
  }
 ],
 "metadata": {
  "kernelspec": {
   "display_name": "Python 3 (ipykernel)",
   "language": "python",
   "name": "python3"
  },
  "language_info": {
   "codemirror_mode": {
    "name": "ipython",
    "version": 3
   },
   "file_extension": ".py",
   "mimetype": "text/x-python",
   "name": "python",
   "nbconvert_exporter": "python",
   "pygments_lexer": "ipython3",
   "version": "3.9.6"
  }
 },
 "nbformat": 4,
 "nbformat_minor": 5
}
