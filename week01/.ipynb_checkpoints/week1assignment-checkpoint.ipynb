{
 "cells": [
  {
   "cell_type": "code",
   "execution_count": 2,
   "id": "68dd447a-ae95-4433-ab89-f6eca1016ce0",
   "metadata": {},
   "outputs": [],
   "source": [
    "#Crashes along the California State Right-of-Way Involving Bicyclists and Pedestrians"
   ]
  },
  {
   "cell_type": "code",
   "execution_count": null,
   "id": "107f3500-9a43-44c9-9663-c5d5b39e1e89",
   "metadata": {},
   "outputs": [],
   "source": []
  }
 ],
 "metadata": {
  "kernelspec": {
   "display_name": "Python 3 (ipykernel)",
   "language": "python",
   "name": "python3"
  },
  "language_info": {
   "codemirror_mode": {
    "name": "ipython",
    "version": 3
   },
   "file_extension": ".py",
   "mimetype": "text/x-python",
   "name": "python",
   "nbconvert_exporter": "python",
   "pygments_lexer": "ipython3",
   "version": "3.9.6"
  }
 },
 "nbformat": 4,
 "nbformat_minor": 5
}
